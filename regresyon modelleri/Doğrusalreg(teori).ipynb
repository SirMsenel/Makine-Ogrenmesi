{
 "cells": [
  {
   "cell_type": "markdown",
   "metadata": {},
   "source": [
    "Doğrusal Regresyon(Linear Regression)\n"
   ]
  },
  {
   "cell_type": "markdown",
   "metadata": {},
   "source": [
    "- amaç bağımlı ve bağımsız değişkenler arasındaki ilişkiyi doğrusal olarak modellemektir.\n",
    "- Gerçek değerler ile tahmin edilen değerler arasında ki farkların karelerinin toplamını/ortalamasını minimum yapabilicek b(sabit) ve w değerlerini buluruz.\n",
    "\n"
   ]
  },
  {
   "cell_type": "markdown",
   "metadata": {},
   "source": [
    "Başarı Değerlendirme "
   ]
  },
  {
   "cell_type": "markdown",
   "metadata": {},
   "source": [
    "- MSE ,RMSE  ve MEA değerlindirmeli kontrol edilir.\n",
    "- MSE (hata kareler ortalamasında kare olmasının temel nedeni tahmin edilen hataların pozifit ya da negatif olması durumunda kaynaklanır.karesinin alınması ile bu durum ortadan kaldırmış olur.)\n"
   ]
  },
  {
   "cell_type": "markdown",
   "metadata": {},
   "source": [
    "Parametrelerin Tahmin Edilmesi "
   ]
  },
  {
   "cell_type": "markdown",
   "metadata": {},
   "source": [
    "- Cost(b,w) = MSE ile özdeşleşir.\n",
    "- Analitik Çözüm : Normal Denklemler Yöntemi (en küçük kareler yöntemi)\n",
    "- Optimizasyon çözümü : Gradient Descent\n",
    "- "
   ]
  },
  {
   "cell_type": "markdown",
   "metadata": {},
   "source": []
  }
 ],
 "metadata": {
  "language_info": {
   "name": "python"
  }
 },
 "nbformat": 4,
 "nbformat_minor": 2
}
