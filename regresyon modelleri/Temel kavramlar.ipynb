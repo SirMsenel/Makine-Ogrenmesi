{
 "cells": [
  {
   "cell_type": "markdown",
   "metadata": {},
   "source": [
    "TEMEL KAVRAMLAR\n",
    "- Sayısal Değişkenler\n",
    "- Kategorik Değişkenler(Nominal,Ordinal)\n",
    "- Bağımlı Değişken(target, depend)\n",
    "- Bağımsız Değişken(independ,input, feature)\n"
   ]
  },
  {
   "cell_type": "markdown",
   "metadata": {},
   "source": [
    "Makine Öğrenmesi temel olarak 3 sınıftalandırmaya tabi tutulur \n",
    "- Denetimli Öğrenme : label(sınıflandırma) durumu söz konusu ise denetimli öğrenmeye tabi ,target ve bağımlı değişken var ise denetimli öğrenmeye tabii olur.\n",
    "\n",
    "- Denetimsiz Öğrenme: ilgili veri setinde bağımlı değişken yok ise ,target yok ise durum denetimsiz öğrenme ile gerçekleştirilir.\n",
    "\n",
    "\n",
    "- Pekiştirmeli Öğrenme : problem içerisinde olasılıklar üzerinden hata yaparak ,öğrenim sağlayarak ödül ve ceza sisteminde deneme yanılma yoluyla öğrenim sağlar"
   ]
  },
  {
   "cell_type": "markdown",
   "metadata": {},
   "source": [
    "PROBLEM TÜRLERİ\n",
    "\n",
    "- Regresyon problemleri : Eğer elimizde yer alan veri setinin bağımlı değişkeni sayısal ise problem regresyon problemidir.\n",
    "- Sınıflandırma Problemleri : Eğer elimizde yer alan veri setinin bağımlı değişkeni kategorik ise problemimiz sınıflandırma problemidir."
   ]
  },
  {
   "cell_type": "markdown",
   "metadata": {},
   "source": [
    "Başarı Değerlendirme Yöntemleri \n",
    "\n",
    "- Sınıflandırılmış Model Değişkenler için : Doğru sınıflandırma sayısı / toplam sınıflandırma sayısı, bize başarı oranını gösterir.\n",
    "\n",
    "- Regresyon Problemlerinde Yer Alan Model Değişkenleri için : MSE(hata kareler ortalaması), RMSE(hata kareler ort. kökü), MAE gibi ölçümler kullanılır."
   ]
  },
  {
   "cell_type": "markdown",
   "metadata": {},
   "source": [
    "Model Doğrulama Yöntemleri \n",
    "\n",
    "- Holdout Yöntemi : Orjinal veri setinin eğitim ve test seti olarak ayrılmasıyla yapılır.\n",
    "- K Katlı Çapraz Doğruluma : ilk senaryouda k tane eşit parçya bölünen orjinal veri setinde her defasında farklı 1 tanesini test seti olarak kullanıp ,tüm denemelerin ortalamasını alarak CV'ye ulaşmamızı sağlar.\n"
   ]
  },
  {
   "cell_type": "markdown",
   "metadata": {},
   "source": [
    "Yanlılık - Varyans Değiş Tokuşu\n",
    "\n",
    "- Underfitting : yüksek yanlılık anlamı da taşımaktadır. az öğrenme durumu söz konusu olduğundan yeterince gelişim gösteremez ve yüksek yanlılık gösterir.Varyans oldukça düşüktür.\n",
    "- Overfitting : yüksek varyans taşır, modeli öğrenmek yerine ezberler .\n",
    "- Doğru Model : düşük yanlılık ve düşük varyans içeren , ezber yerine öğrenim sağlayan ulaşmaya çalıştığım öğrenimdir.\n"
   ]
  },
  {
   "cell_type": "markdown",
   "metadata": {},
   "source": []
  }
 ],
 "metadata": {
  "language_info": {
   "name": "python"
  }
 },
 "nbformat": 4,
 "nbformat_minor": 2
}
