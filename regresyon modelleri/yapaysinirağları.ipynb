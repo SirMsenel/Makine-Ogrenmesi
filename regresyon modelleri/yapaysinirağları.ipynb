{
 "cells": [
  {
   "cell_type": "markdown",
   "metadata": {},
   "source": [
    "YAPAY SİNİR AĞLARI"
   ]
  },
  {
   "cell_type": "markdown",
   "metadata": {},
   "source": [
    "- insan beyninin bilgi işleme şeklini referans alan sınıflandırma ve regresyon problemleri için kullanılabilen kuvvetli makine öğrenmesi algoritmalarından birisidir.\n",
    "-  sinir ağları bir araya gelerek bir araya gelerek sistemi oluşturur.\n",
    "- \"çok katmanlı ağ\" olarak da adlandırılır.\n",
    "- Ağın yapısına karar verilir.\n",
    "- Doğrusal değişkenler ,doğrusal olmayan değişkenlerden türetilmektedir.\n",
    "- Girdiler ve çıktılar üzerinden olabilicek en min hatayı bulmayı amaçlar\n",
    "- overfit olmaya meyillidir.bundan kurtulamk için birçok yol denenir.\n",
    "-\n"
   ]
  }
 ],
 "metadata": {
  "kernelspec": {
   "display_name": "Python 3",
   "language": "python",
   "name": "python3"
  },
  "language_info": {
   "name": "python",
   "version": "3.11.4"
  }
 },
 "nbformat": 4,
 "nbformat_minor": 2
}
